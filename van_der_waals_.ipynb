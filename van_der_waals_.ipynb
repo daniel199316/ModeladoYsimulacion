{
  "nbformat": 4,
  "nbformat_minor": 0,
  "metadata": {
    "kernelspec": {
      "display_name": "Python 3",
      "language": "python",
      "name": "python3"
    },
    "language_info": {
      "codemirror_mode": {
        "name": "ipython",
        "version": 3
      },
      "file_extension": ".py",
      "mimetype": "text/x-python",
      "name": "python",
      "nbconvert_exporter": "python",
      "pygments_lexer": "ipython3",
      "version": "3.7.4"
    },
    "colab": {
      "name": "metodos numericos .ipynb",
      "provenance": [],
      "include_colab_link": true
    }
  },
  "cells": [
    {
      "cell_type": "markdown",
      "metadata": {
        "id": "view-in-github",
        "colab_type": "text"
      },
      "source": [
        "<a href=\"https://colab.research.google.com/github/daniel199316/ModeladoYsimulacion/blob/master/van_der_waals_.ipynb\" target=\"_parent\"><img src=\"https://colab.research.google.com/assets/colab-badge.svg\" alt=\"Open In Colab\"/></a>"
      ]
    },
    {
      "cell_type": "code",
      "metadata": {
        "id": "5bFUKL10hXya",
        "colab_type": "code",
        "colab": {},
        "outputId": "c7425035-733b-4284-e8b9-7709ad347406"
      },
      "source": [
        "############## ecuacion de estado de gases reales de van der waals\n",
        "\n",
        "\n",
        "####################### newton rhapson\n",
        "\n",
        "import numpy as np\n",
        "import matplotlib.pyplot as plt\n",
        "import sympy as sp\n",
        "\n",
        "v=sp.symbols('v')\n",
        "\n",
        "v=np.linspace(-2,5,100)\n",
        "x_next=100\n",
        "\n",
        "y=12*v**3-34.1967*v**2+13.6844*v-1.5928\n",
        "plt.plot(v,y)\n",
        "\n",
        "def f(v): return 12*v**3-34.1967*v**2+13.6844*v-1.5928\n",
        "def df(v): return 36*v**2-68.3934*v+13.6844\n",
        "iteration=1\n",
        "\n",
        "xi=2\n",
        "tol=1e-6\n",
        "diff=np.abs(xi-x_next)\n",
        "\n",
        "while tol<diff:\n",
        "  x_next= xi-(f(xi)/df(xi))\n",
        "  diff=np.abs(xi-x_next)\n",
        "  xi=x_next\n",
        "  iteration=iteration+1\n",
        "\n",
        "plt.plot(xi,f(xi),'ro')\n",
        "print('The root of f(x)=0 is %f with %f iterations' %(xi, iteration))"
      ],
      "execution_count": null,
      "outputs": [
        {
          "output_type": "stream",
          "text": [
            "The root of f(x)=0 is 2.397097 with 7.000000 iterations\n"
          ],
          "name": "stdout"
        },
        {
          "output_type": "display_data",
          "data": {
            "image/png": "[encoded data removed]",
            "text/plain": [
              "<Figure size 432x288 with 1 Axes>"
            ]
          },
          "metadata": {
            "tags": [],
            "needs_background": "light"
          }
        }
      ]
    },
    {
      "cell_type": "code",
      "metadata": {
        "id": "6vupyHQ_hXy0",
        "colab_type": "code",
        "colab": {}
      },
      "source": [
        "import cmath,math,os,sys;\n",
        "\n",
        "\n",
        "def puntofijo():\n",
        "    x=float(input('Ingresa valor inicial(X0): '));\n",
        "    tolerancia=float(input('Ingresa el porcentaje de error: '));\n",
        "    N=int(input('Numero maximo de iteraciones: '));\n",
        "    f=input('Ingrese la función f(x), ya despejada g(f(x)): ');\n",
        "    er=100;\n",
        "    i=1;\n",
        "    print('#iteracion\\tg(f(x))\\t\\terror')\n",
        "    while(er>=tolerancia):\n",
        "        temp=x;\n",
        "        x=eval(f);\n",
        "        er=abs((x-temp));\n",
        "        print(\"%d\\t\\t%.4f\\t\\t%.4f\"%(i,x,er));\n",
        "        i+=1;\n",
        "\n",
        "    print(\"\\nLa solucion mas aproximada es: %.4f con un error de %.4f\"%(x,er));\n",
        "    \n"
      ],
      "execution_count": null,
      "outputs": []
    },
    {
      "cell_type": "code",
      "metadata": {
        "id": "ILBTJFKMhXzC",
        "colab_type": "code",
        "colab": {},
        "outputId": "9fbf1259-1aef-48df-ac26-a8696f12bad5"
      },
      "source": [
        "\n",
        "\n",
        "puntofijo()\n",
        "\n",
        "\n"
      ],
      "execution_count": null,
      "outputs": [
        {
          "output_type": "stream",
          "text": [
            "Ingresa valor inicial(X0): 2\n",
            "Ingresa el porcentaje de error: 0.001\n",
            "Numero maximo de iteraciones: 35\n",
            "Ingrese la función f(x), ya despejada g(f(x)): np.sqrt((12*x**3+13.6844*x-1.5928)/34.1967) \n",
            "#iteracion\tg(f(x))\t\terror\n",
            "1\t\t1.8871\t\t0.1129\n",
            "2\t\t1.7512\t\t0.1359\n",
            "3\t\t1.5933\t\t0.1579\n",
            "4\t\t1.4179\t\t0.1754\n",
            "5\t\t1.2333\t\t0.1846\n",
            "6\t\t1.0513\t\t0.1820\n",
            "7\t\t0.8843\t\t0.1671\n",
            "8\t\t0.7415\t\t0.1427\n",
            "9\t\t0.6271\t\t0.1144\n",
            "10\t\t0.5394\t\t0.0877\n",
            "11\t\t0.4736\t\t0.0657\n",
            "12\t\t0.4245\t\t0.0491\n",
            "13\t\t0.3875\t\t0.0370\n",
            "14\t\t0.3590\t\t0.0285\n",
            "15\t\t0.3367\t\t0.0224\n",
            "16\t\t0.3186\t\t0.0180\n",
            "17\t\t0.3038\t\t0.0149\n",
            "18\t\t0.2912\t\t0.0125\n",
            "19\t\t0.2804\t\t0.0108\n",
            "20\t\t0.2709\t\t0.0095\n",
            "21\t\t0.2623\t\t0.0086\n",
            "22\t\t0.2544\t\t0.0079\n",
            "23\t\t0.2470\t\t0.0074\n",
            "24\t\t0.2399\t\t0.0071\n",
            "25\t\t0.2329\t\t0.0069\n",
            "26\t\t0.2260\t\t0.0069\n",
            "27\t\t0.2189\t\t0.0071\n",
            "28\t\t0.2114\t\t0.0075\n",
            "29\t\t0.2033\t\t0.0081\n",
            "30\t\t0.1942\t\t0.0091\n",
            "31\t\t0.1836\t\t0.0106\n",
            "32\t\t0.1705\t\t0.0131\n",
            "33\t\t0.1529\t\t0.0176\n",
            "34\t\t0.1260\t\t0.0269\n",
            "35\t\t0.0675\t\t0.0585\n",
            "36\t\tnan\t\tnan\n",
            "\n",
            "La solucion mas aproximada es: nan con un error de nan\n"
          ],
          "name": "stdout"
        },
        {
          "output_type": "stream",
          "text": [
            "C:\\ProgramData\\Anaconda3\\lib\\site-packages\\ipykernel_launcher.py:1: RuntimeWarning: invalid value encountered in sqrt\n",
            "  \"\"\"Entry point for launching an IPython kernel.\n"
          ],
          "name": "stderr"
        }
      ]
    },
    {
      "cell_type": "code",
      "metadata": {
        "id": "hGRZBCiEhXzQ",
        "colab_type": "code",
        "colab": {}
      },
      "source": [
        "\n",
        "Colebrook()\n"
      ],
      "execution_count": null,
      "outputs": []
    },
    {
      "cell_type": "code",
      "metadata": {
        "id": "Umfe2GbAhXzc",
        "colab_type": "code",
        "colab": {}
      },
      "source": [
        "def Co():\n",
        "  frlambda0=2\n",
        "  tol=10\n",
        "  N=0\n",
        "\n",
        "  while tol > 1e-6:\n",
        "    frlambda1 =np.sqrt((12*v**3+13.6844*v-1.5928)/34.1967) \n",
        "    \n",
        "    tol= abs(frlambda1 - frlambda0)\n",
        "    frlambda0 = frlambda1\n",
        "    N=N+1\n",
        "    print(\"Iteraciones\",N)\n",
        "    return frlambda1\n"
      ],
      "execution_count": null,
      "outputs": []
    },
    {
      "cell_type": "code",
      "metadata": {
        "id": "K6yMTWWlhXzn",
        "colab_type": "code",
        "colab": {},
        "outputId": "aea6cab6-a9f8-4278-8c18-7a855b563f42"
      },
      "source": [
        "w=Co()\n",
        "print(w)"
      ],
      "execution_count": null,
      "outputs": [
        {
          "output_type": "stream",
          "text": [
            "Iteraciones 1\n",
            "[       nan        nan        nan        nan        nan        nan\n",
            "        nan        nan        nan        nan        nan        nan\n",
            "        nan        nan        nan        nan        nan        nan\n",
            "        nan        nan        nan        nan        nan        nan\n",
            "        nan        nan        nan        nan        nan        nan\n",
            " 0.05052193 0.18083904 0.25470227 0.31592436 0.37182242 0.4253806\n",
            " 0.47816599 0.5311105  0.58480757 0.63964957 0.69590064 0.75373904\n",
            " 0.8132837  0.87461162 0.93776979 1.00278347 1.06966225 1.13840432\n",
            " 1.20899963 1.28143233 1.35568239 1.43172701 1.50954149 1.58910002\n",
            " 1.67037618 1.75334337 1.83797505 1.924245   2.01212744 2.10159716\n",
            " 2.19262958 2.28520079 2.37928759 2.4748675  2.57191874 2.67042026\n",
            " 2.77035168 2.87169332 2.97442615 3.07853177 3.18399241 3.29079089\n",
            " 3.39891057 3.50833539 3.61904977 3.73103868 3.84428752 3.95878217\n",
            " 4.07450894 4.19145456 4.30960616 4.42895124 4.54947768 4.67117371\n",
            " 4.79402787 4.91802904 5.04316641 5.16942946 5.29680794 5.42529187\n",
            " 5.55487155 5.68553751 5.81728052 5.95009158 6.08396191 6.21888296\n",
            " 6.35484635 6.49184391 6.62986767 6.76890983]\n"
          ],
          "name": "stdout"
        },
        {
          "output_type": "stream",
          "text": [
            "C:\\ProgramData\\Anaconda3\\lib\\site-packages\\ipykernel_launcher.py:7: RuntimeWarning: invalid value encountered in sqrt\n",
            "  import sys\n"
          ],
          "name": "stderr"
        }
      ]
    },
    {
      "cell_type": "code",
      "metadata": {
        "id": "_jmnX8jIhXzz",
        "colab_type": "code",
        "colab": {},
        "outputId": "0ac251d0-ed12-48f0-e8b0-c57823778564"
      },
      "source": [
        "#(-12*x**3+34.1967*x**2+1.5928)/13.6844\n",
        "##np.sqrt((12*x**3+13.6844*x-1.5928)/34.1967) \n",
        "# 12*x**3-34.1967*x**2+13.6844*x-1.5928\n",
        "from math import *\n",
        "def g(x):\n",
        "\n",
        "    y=(-12*x**3+34.1967*x**2+1.5928)/13.6844\n",
        "\n",
        "    return y\n",
        "\n",
        "p0=0.5\n",
        "\n",
        "tol=0.001\n",
        "\n",
        "n0=20\n",
        "\n",
        "i=1\n",
        "\n",
        "while i<=n0:\n",
        "\n",
        "    p=g(p0)\n",
        "\n",
        "    if abs(p-p0)<tol:\n",
        "\n",
        "        print(\"El punto fijo es \",p,\" despues de \",i,\" iteraciones\")\n",
        "\n",
        "        break\n",
        "\n",
        "    i=i+1\n",
        "\n",
        "    p0=p\n",
        "\n",
        "if i>n0:\n",
        "\n",
        "    print(\"El metodo no converge \")"
      ],
      "execution_count": null,
      "outputs": [
        {
          "output_type": "stream",
          "text": [
            "El metodo no converge \n"
          ],
          "name": "stdout"
        }
      ]
    },
    {
      "cell_type": "code",
      "metadata": {
        "id": "DtcmTtkkhX0F",
        "colab_type": "code",
        "colab": {}
      },
      "source": [
        ""
      ],
      "execution_count": null,
      "outputs": []
    },
    {
      "cell_type": "code",
      "metadata": {
        "id": "Na2qi-ghhX0b",
        "colab_type": "code",
        "colab": {}
      },
      "source": [
        ""
      ],
      "execution_count": null,
      "outputs": []
    }
  ]
}